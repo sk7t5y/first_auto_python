{
 "cells": [
  {
   "cell_type": "code",
   "execution_count": 1,
   "metadata": {},
   "outputs": [],
   "source": [
    "import os, glob, shutil"
   ]
  },
  {
   "cell_type": "code",
   "execution_count": 9,
   "metadata": {},
   "outputs": [
    {
     "data": {
      "text/plain": [
       "['C:\\\\Users\\\\taeyeon\\\\Documents\\\\공유폴더\\\\GS칼텍스_20300203_보고서.docx',\n",
       " 'C:\\\\Users\\\\taeyeon\\\\Documents\\\\공유폴더\\\\KT rolster_20300112_보고서.pptx',\n",
       " 'C:\\\\Users\\\\taeyeon\\\\Documents\\\\공유폴더\\\\농심_20300112_보고서.pptx',\n",
       " 'C:\\\\Users\\\\taeyeon\\\\Documents\\\\공유폴더\\\\보고서파일',\n",
       " 'C:\\\\Users\\\\taeyeon\\\\Documents\\\\공유폴더\\\\신세계그룹_20300124_보고서.docx',\n",
       " 'C:\\\\Users\\\\taeyeon\\\\Documents\\\\공유폴더\\\\아시아나_20300124_보고서.docx',\n",
       " 'C:\\\\Users\\\\taeyeon\\\\Documents\\\\공유폴더\\\\포스코_20300120_보고서.docx',\n",
       " 'C:\\\\Users\\\\taeyeon\\\\Documents\\\\공유폴더\\\\현대백화점_20300213_보고서.pptx']"
      ]
     },
     "execution_count": 9,
     "metadata": {},
     "output_type": "execute_result"
    }
   ],
   "source": [
    "# 1. [내문서/공유폴더]\n",
    "# '보고서' 단어가 포함된 파일 추출\n",
    "report_files = glob.glob(r'C:\\Users\\taeyeon\\Documents\\공유폴더\\*보고서*')\n",
    "report_files"
   ]
  },
  {
   "cell_type": "code",
   "execution_count": 4,
   "metadata": {},
   "outputs": [],
   "source": [
    "# 2. [내문서/공유폴더/보고서파일]\n",
    "# 폴더가 없다면 만들기\n",
    "if not os.path.exists(r'C:\\Users\\taeyeon\\Documents\\공유폴더\\보고서파일'):\n",
    "   os.mkdir(r'C:\\Users\\taeyeon\\Documents\\공유폴더\\보고서파일')"
   ]
  },
  {
   "cell_type": "code",
   "execution_count": 11,
   "metadata": {},
   "outputs": [],
   "source": [
    "# 3. 파일 이동시키기\n",
    "# 추출한 파일들을 '보고서파일' 폴더 이동\n",
    "for file in report_files:\n",
    "    shutil.move(file, r'C:\\Users\\taeyeon\\Documents\\공유폴더\\보고서파일')\n",
    "\n",
    "\n",
    "\n"
   ]
  },
  {
   "cell_type": "code",
   "execution_count": 19,
   "metadata": {},
   "outputs": [
    {
     "data": {
      "text/plain": [
       "['C:\\\\Users\\\\taeyeon\\\\Documents\\\\공유폴더\\\\SK브로드밴드_20300104_데이터.xlsx',\n",
       " 'C:\\\\Users\\\\taeyeon\\\\Documents\\\\공유폴더\\\\SOIL_20300310_데이터.csv',\n",
       " 'C:\\\\Users\\\\taeyeon\\\\Documents\\\\공유폴더\\\\농협_20300105_데이터.xlsx',\n",
       " 'C:\\\\Users\\\\taeyeon\\\\Documents\\\\공유폴더\\\\두산그룹_20300205_데이터.csv',\n",
       " 'C:\\\\Users\\\\taeyeon\\\\Documents\\\\공유폴더\\\\삼양그룹_20300102_데이터.xlsx',\n",
       " 'C:\\\\Users\\\\taeyeon\\\\Documents\\\\공유폴더\\\\셀트리온_20300210_데이터.csv',\n",
       " 'C:\\\\Users\\\\taeyeon\\\\Documents\\\\공유폴더\\\\코오롱_20300104_데이터.xlsx',\n",
       " 'C:\\\\Users\\\\taeyeon\\\\Documents\\\\공유폴더\\\\효성그룹_20300310_데이터.csv']"
      ]
     },
     "execution_count": 19,
     "metadata": {},
     "output_type": "execute_result"
    }
   ],
   "source": [
    "glob.glob(r'C:\\Users\\taeyeon\\Documents\\공유폴더\\*데이터*')"
   ]
  },
  {
   "cell_type": "code",
   "execution_count": 20,
   "metadata": {},
   "outputs": [
    {
     "data": {
      "text/plain": [
       "['C:\\\\Users\\\\taeyeon\\\\Documents\\\\공유폴더\\\\SK브로드밴드_20300104_데이터.xlsx',\n",
       " 'C:\\\\Users\\\\taeyeon\\\\Documents\\\\공유폴더\\\\SOIL_20300310_데이터.csv',\n",
       " 'C:\\\\Users\\\\taeyeon\\\\Documents\\\\공유폴더\\\\농협_20300105_데이터.xlsx',\n",
       " 'C:\\\\Users\\\\taeyeon\\\\Documents\\\\공유폴더\\\\두산그룹_20300205_데이터.csv',\n",
       " 'C:\\\\Users\\\\taeyeon\\\\Documents\\\\공유폴더\\\\삼양그룹_20300102_데이터.xlsx',\n",
       " 'C:\\\\Users\\\\taeyeon\\\\Documents\\\\공유폴더\\\\셀트리온_20300210_데이터.csv',\n",
       " 'C:\\\\Users\\\\taeyeon\\\\Documents\\\\공유폴더\\\\코오롱_20300104_데이터.xlsx',\n",
       " 'C:\\\\Users\\\\taeyeon\\\\Documents\\\\공유폴더\\\\효성그룹_20300310_데이터.csv']"
      ]
     },
     "execution_count": 20,
     "metadata": {},
     "output_type": "execute_result"
    }
   ],
   "source": [
    "data_files = glob.glob(r'C:\\Users\\taeyeon\\Documents\\공유폴더\\*데이터*')\n",
    "data_files\n",
    "\n"
   ]
  },
  {
   "cell_type": "code",
   "execution_count": 25,
   "metadata": {},
   "outputs": [],
   "source": [
    "if not os.path.exists(r'C:\\Users\\taeyeon\\Documents\\공유폴더\\데이터파일'):\n",
    "   os.mkdir(r'C:\\Users\\taeyeon\\Documents\\공유폴더\\데이터파일')\n"
   ]
  },
  {
   "cell_type": "code",
   "execution_count": 26,
   "metadata": {},
   "outputs": [],
   "source": [
    "for file in data_files:\n",
    "    shutil.move(file, r'C:\\Users\\taeyeon\\Documents\\공유폴더\\데이터파일')"
   ]
  },
  {
   "cell_type": "code",
   "execution_count": 29,
   "metadata": {},
   "outputs": [
    {
     "data": {
      "text/plain": [
       "['C:\\\\Users\\\\taeyeon\\\\Documents\\\\공유폴더\\\\세금계산서_놀부전자.xlsx',\n",
       " 'C:\\\\Users\\\\taeyeon\\\\Documents\\\\공유폴더\\\\세금계산서_제비공업.xlsx',\n",
       " 'C:\\\\Users\\\\taeyeon\\\\Documents\\\\공유폴더\\\\세금계산서_콩쥐하이텍.xlsx',\n",
       " 'C:\\\\Users\\\\taeyeon\\\\Documents\\\\공유폴더\\\\세금계산서_팥쥐엔지니어링.xlsx',\n",
       " 'C:\\\\Users\\\\taeyeon\\\\Documents\\\\공유폴더\\\\세금계산서_흥부전자.xlsx']"
      ]
     },
     "execution_count": 29,
     "metadata": {},
     "output_type": "execute_result"
    }
   ],
   "source": [
    "glob.glob(r'C:\\Users\\taeyeon\\Documents\\공유폴더\\세금계산서*')"
   ]
  },
  {
   "cell_type": "code",
   "execution_count": 32,
   "metadata": {},
   "outputs": [],
   "source": [
    "import os, glob, shutil\n",
    "\n",
    "tax_files = glob.glob(r'C:\\Users\\taeyeon\\Documents\\공유폴더\\*세금계산서*')\n",
    "tax_files\n",
    "\n",
    "if not os.path.exists(r'C:\\Users\\taeyeon\\Documents\\공유폴더\\세금계산서파일'):\n",
    "   os.mkdir(r'C:\\Users\\taeyeon\\Documents\\공유폴더\\세금계산서파일')\n",
    "\n",
    "for file in tax_files:\n",
    "    shutil.move(file, r'C:\\Users\\taeyeon\\Documents\\공유폴더\\세금계산서파일')\n"
   ]
  },
  {
   "cell_type": "code",
   "execution_count": 47,
   "metadata": {},
   "outputs": [],
   "source": [
    "# 심화 폴더 자동 정리 프로그램 완성하기\n",
    "import os, glob, shutil\n",
    "\n",
    "target_folder = r'C:\\Users\\taeyeon\\Documents\\공유폴더'\n",
    "keywork_list = ['보고서', '데이터', '계산서']\n",
    "for keyword in keywork_list:\n",
    "    file_list = glob.glob(f'{target_folder}/*{keyword}*')\n",
    "    if not os.path.exists(f'{target_folder}/{keyword}파일'):\n",
    "       os.mkdir(f'{target_folder}\\{keyword}파일')\n",
    "    for file in file_list:\n",
    "        shutil.move(file, f'{target_folder}/{keyword}파일')\n",
    "\n"
   ]
  },
  {
   "cell_type": "markdown",
   "metadata": {},
   "source": []
  }
 ],
 "metadata": {
  "kernelspec": {
   "display_name": "Python 3",
   "language": "python",
   "name": "python3"
  },
  "language_info": {
   "codemirror_mode": {
    "name": "ipython",
    "version": 3
   },
   "file_extension": ".py",
   "mimetype": "text/x-python",
   "name": "python",
   "nbconvert_exporter": "python",
   "pygments_lexer": "ipython3",
   "version": "3.9.0"
  },
  "orig_nbformat": 4
 },
 "nbformat": 4,
 "nbformat_minor": 2
}
