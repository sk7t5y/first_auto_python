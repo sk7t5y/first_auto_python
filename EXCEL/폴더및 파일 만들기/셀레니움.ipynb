{
 "cells": [
  {
   "cell_type": "code",
   "execution_count": 15,
   "metadata": {},
   "outputs": [],
   "source": [
    "from selenium import webdriver\n",
    "from selenium.webdriver.common.by import By\n",
    "from selenium.webdriver.chrome.options import Options\n",
    "from selenium.webdriver.common.keys import Keys\n",
    "import time\n",
    "\n",
    "options = Options()\n",
    "options.add_argument('--start-maximized')\n",
    "options.add_experimental_option(\"detach\", True)\n",
    "\n",
    "driver = webdriver.Chrome(options=options)\n",
    "\n",
    "url = \"https://www.naver.com\"\n",
    "\n",
    "driver.get(url)\n",
    "time.sleep(3)\n",
    "\n",
    "query = driver.find_element(By.ID, \"query\")\n",
    "query.send_keys(\"인공지능\")\n",
    "time.sleep(2)\n",
    "\n",
    "search_btn = driver.find_element(By.ID, \"query\").send_keys(Keys.ENTER)\n",
    "# search_btn = driver.find_element(By.CSS_SELECTOR, \"#search-btn\")\n",
    "# search_btn.click()\n",
    "time.sleep(2)\n",
    "\n",
    "driver.save_screenshot(\"naver_인공지능.png\")\n",
    "\n",
    "driver.quit()\n"
   ]
  }
 ],
 "metadata": {
  "kernelspec": {
   "display_name": "Python 3",
   "language": "python",
   "name": "python3"
  },
  "language_info": {
   "codemirror_mode": {
    "name": "ipython",
    "version": 3
   },
   "file_extension": ".py",
   "mimetype": "text/x-python",
   "name": "python",
   "nbconvert_exporter": "python",
   "pygments_lexer": "ipython3",
   "version": "3.9.0"
  },
  "orig_nbformat": 4
 },
 "nbformat": 4,
 "nbformat_minor": 2
}
