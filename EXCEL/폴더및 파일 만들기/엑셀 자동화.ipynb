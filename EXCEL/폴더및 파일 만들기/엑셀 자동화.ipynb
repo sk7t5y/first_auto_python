{
 "cells": [
  {
   "cell_type": "code",
   "execution_count": 2,
   "metadata": {},
   "outputs": [],
   "source": [
    "import xlwings as xw\n",
    "import glob\n",
    "\n",
    "# 앱 만들기\n",
    "app = xw.App(add_book=False)\n",
    "\n",
    "# 워크북 만들기\n",
    "wb = app.books.open(r'C:\\Users\\taeyeon\\Documents\\공유폴더\\계산서파일\\세금계산서_놀부전자.xlsx')\n",
    "\n",
    "# 워크시트 선택\n",
    "ws = wb.sheets['자료입력페이지']\n",
    "\n",
    "# 셀 데이터 입력\n",
    "ws.range('C14').value = '2030-02-01'\n",
    "\n",
    "# 워크북 저장\n",
    "wb.save()\n",
    "\n",
    "# 엑셀 앱 닫기\n",
    "app.quit()"
   ]
  },
  {
   "cell_type": "code",
   "execution_count": 8,
   "metadata": {},
   "outputs": [
    {
     "name": "stdout",
     "output_type": "stream",
     "text": [
      "C:\\Users\\taeyeon\\Documents\\공유폴더\\계산서파일\\세금계산서_놀부전자.xlsx\n",
      "C:\\Users\\taeyeon\\Documents\\공유폴더\\계산서파일\\세금계산서_제비공업.xlsx\n",
      "C:\\Users\\taeyeon\\Documents\\공유폴더\\계산서파일\\세금계산서_콩쥐하이텍.xlsx\n",
      "C:\\Users\\taeyeon\\Documents\\공유폴더\\계산서파일\\세금계산서_팥쥐엔지니어링.xlsx\n",
      "C:\\Users\\taeyeon\\Documents\\공유폴더\\계산서파일\\세금계산서_흥부전자.xlsx\n"
     ]
    }
   ],
   "source": [
    "#엑셀 자동화 프로그램 예시\n",
    "import xlwings as xw\n",
    "import glob\n",
    "file_list = glob.glob(r'C:\\Users\\taeyeon\\Documents\\공유폴더\\계산서파일\\*계산서*')\n",
    "# 앱 만들기\n",
    "app = xw.App(add_book=False)\n",
    "for file in file_list:\n",
    "    print(file)\n",
    "    # 워크북 만들기\n",
    "    wb = app.books.open(file)\n",
    "    # 워크시트 선택\n",
    "    ws = wb.sheets['자료입력페이지']\n",
    "    # 셀 데이터 입력\n",
    "    ws.range('C14').value = '2025-01-31'\n",
    "    # 워크북 저장\n",
    "    wb.save()\n",
    "    # 워크북 닫기\n",
    "    wb.close()\n",
    "# 엑셀 앱 닫기\n",
    "app.quit()\n"
   ]
  }
 ],
 "metadata": {
  "kernelspec": {
   "display_name": "Python 3",
   "language": "python",
   "name": "python3"
  },
  "language_info": {
   "codemirror_mode": {
    "name": "ipython",
    "version": 3
   },
   "file_extension": ".py",
   "mimetype": "text/x-python",
   "name": "python",
   "nbconvert_exporter": "python",
   "pygments_lexer": "ipython3",
   "version": "3.9.0"
  },
  "orig_nbformat": 4
 },
 "nbformat": 4,
 "nbformat_minor": 2
}
