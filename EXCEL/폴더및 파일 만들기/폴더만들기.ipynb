{
 "cells": [
  {
   "cell_type": "code",
   "execution_count": 1,
   "metadata": {},
   "outputs": [],
   "source": [
    "import os\n",
    "\n",
    "#상대경로어플\n",
    "os.mkdir('참이슬')"
   ]
  },
  {
   "cell_type": "code",
   "execution_count": 2,
   "metadata": {},
   "outputs": [],
   "source": [
    "#상대경로 이름2\n",
    "os.mkdir('참이슬/후레시')"
   ]
  },
  {
   "cell_type": "code",
   "execution_count": 3,
   "metadata": {},
   "outputs": [],
   "source": [
    "#상대경로이름 3\n",
    "os.mkdir('../카스')"
   ]
  },
  {
   "cell_type": "code",
   "execution_count": null,
   "metadata": {},
   "outputs": [],
   "source": [
    "#절대 경로 이름\n",
    "os.mkdir('D:\\startcode\\EXCEL\\폴더및 파일 만들기\\카스')"
   ]
  },
  {
   "cell_type": "code",
   "execution_count": 6,
   "metadata": {},
   "outputs": [],
   "source": [
    "#절대 경로 이름\n",
    "os.mkdir('D:\\startcode\\EXCEL\\폴더및 파일 만들기/테라')"
   ]
  },
  {
   "cell_type": "code",
   "execution_count": 11,
   "metadata": {},
   "outputs": [],
   "source": [
    "#폴더가 없을 때만 만들기\n",
    "if not os.path.exists(r'D:\\startcode\\EXCEL\\폴더및 파일 만들기/테라'):\n",
    "   os.mkdir(r'D:\\startcode\\EXCEL\\폴더및 파일 만들기/테라')"
   ]
  },
  {
   "cell_type": "code",
   "execution_count": null,
   "metadata": {},
   "outputs": [],
   "source": []
  }
 ],
 "metadata": {
  "kernelspec": {
   "display_name": "Python 3",
   "language": "python",
   "name": "python3"
  },
  "language_info": {
   "codemirror_mode": {
    "name": "ipython",
    "version": 3
   },
   "file_extension": ".py",
   "mimetype": "text/x-python",
   "name": "python",
   "nbconvert_exporter": "python",
   "pygments_lexer": "ipython3",
   "version": "3.9.0"
  },
  "orig_nbformat": 4
 },
 "nbformat": 4,
 "nbformat_minor": 2
}
