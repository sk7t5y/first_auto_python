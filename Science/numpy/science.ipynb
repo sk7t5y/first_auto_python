{
 "cells": [
  {
   "cell_type": "code",
   "execution_count": 62,
   "metadata": {},
   "outputs": [
    {
     "name": "stdout",
     "output_type": "stream",
     "text": [
      "2\n",
      "(54, 4)\n",
      "216\n",
      "9.166666666666666\n",
      "9.166666666666666\n",
      "9.166666666666666\n"
     ]
    }
   ],
   "source": [
    "import numpy as np\n",
    "\n",
    "data=np.loadtxt('rating.txt', delimiter=':', dtype=np.int64)\n",
    "\n",
    "print(data.ndim)  #행\n",
    "print(data.shape)  \n",
    "print(data.size)\n",
    "\n",
    "print(data[:,2].mean())\n",
    "user_data1=data[data[:,0]==1]\n",
    "print(user_data1[:,2].mean())\n",
    "user_data2=data[data[:,0]==2]\n",
    "print(user_data2[:,2].mean())\n"
   ]
  },
  {
   "cell_type": "code",
   "execution_count": 63,
   "metadata": {},
   "outputs": [
    {
     "data": {
      "text/plain": [
       "(9,)"
      ]
     },
     "execution_count": 63,
     "metadata": {},
     "output_type": "execute_result"
    }
   ],
   "source": [
    "user_id=np.unique(data[:,0])\n",
    "user_id.shape"
   ]
  },
  {
   "cell_type": "code",
   "execution_count": 69,
   "metadata": {},
   "outputs": [],
   "source": [
    "li=[]\n",
    "for user in user_id :\n",
    "    userid_n=data[data[:,0]==user]\n",
    "    li.append([user, userid_n[:,2].mean()])"
   ]
  },
  {
   "cell_type": "code",
   "execution_count": 71,
   "metadata": {},
   "outputs": [
    {
     "data": {
      "text/plain": [
       "[[np.int64(1), np.float64(9.166666666666666)],\n",
       " [np.int64(2), np.float64(9.166666666666666)],\n",
       " [np.int64(3), np.float64(9.166666666666666)],\n",
       " [np.int64(4), np.float64(9.166666666666666)],\n",
       " [np.int64(5), np.float64(9.166666666666666)]]"
      ]
     },
     "execution_count": 71,
     "metadata": {},
     "output_type": "execute_result"
    }
   ],
   "source": [
    "li[:5]"
   ]
  },
  {
   "cell_type": "code",
   "execution_count": 72,
   "metadata": {},
   "outputs": [],
   "source": [
    "np.savetxt('rating.csv', li, delimiter=',', fmt='%.3f')"
   ]
  }
 ],
 "metadata": {
  "kernelspec": {
   "display_name": "Python 3",
   "language": "python",
   "name": "python3"
  },
  "language_info": {
   "codemirror_mode": {
    "name": "ipython",
    "version": 3
   },
   "file_extension": ".py",
   "mimetype": "text/x-python",
   "name": "python",
   "nbconvert_exporter": "python",
   "pygments_lexer": "ipython3",
   "version": "3.9.0"
  },
  "orig_nbformat": 4
 },
 "nbformat": 4,
 "nbformat_minor": 2
}
